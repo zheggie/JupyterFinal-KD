{
 "cells": [
  {
   "cell_type": "markdown",
   "id": "4e091c70-2cab-4ae2-b0eb-0a942cd4a79b",
   "metadata": {},
   "source": [
    "# Data Science Tools and Ecosystem"
   ]
  },
  {
   "cell_type": "markdown",
   "id": "45b3624f-04af-4f75-9c9a-e281d9562298",
   "metadata": {},
   "source": [
    "**Objectives:**\n",
    "* Popular languages for data science\n",
    "* Libraries commongly used by data scientists\n",
    "* Data science tools\n",
    "* Python arithmetic expressions"
   ]
  },
  {
   "cell_type": "markdown",
   "id": "6766c001-c125-45ab-955f-bf020258aa8f",
   "metadata": {},
   "source": [
    "## Jupyter Notebooks Practice Assignment in Data Science"
   ]
  },
  {
   "cell_type": "markdown",
   "id": "bb3edd10-7f58-452a-8fda-ee2ed92af4d7",
   "metadata": {},
   "source": [
    "Some of the popular languages for Data Science are:\n",
    "1. Scala\n",
    "2. Julia\n",
    "3. SQL\n",
    "4. Javascripr\n",
    "5. Python\n",
    "6. R.\n",
    "7. C++"
   ]
  },
  {
   "cell_type": "markdown",
   "id": "d10c8815-605b-4e7e-ad3b-d7f9a2336380",
   "metadata": {},
   "source": [
    "Libraries commonly used by Data Scientists include:\n",
    "1. Pandas\n",
    "2. TensorFlow\n",
    "3. PlotPly\n",
    "4. NumPy\n",
    "5. PlotPy\n",
    "6. Keras\n",
    "8. XG Boost\n",
    "9. Py Caret"
   ]
  },
  {
   "cell_type": "markdown",
   "id": "2776a70c-e59a-44c5-b700-b17dc0fd65fe",
   "metadata": {},
   "source": [
    "|Data Science Tools|\n",
    "|:-------------------|\n",
    "|RStudio|\n",
    "|NumPy|\n",
    "|Pandas|"
   ]
  },
  {
   "cell_type": "markdown",
   "id": "44fa5065-2a0c-4027-aac0-95d99eaa4671",
   "metadata": {},
   "source": [
    "### Below are examples of evaluating arithemetic expressions in Python"
   ]
  },
  {
   "cell_type": "code",
   "execution_count": 10,
   "id": "7dd422a1-338e-4bda-bb5b-b161ad4f5fbb",
   "metadata": {},
   "outputs": [
    {
     "data": {
      "text/plain": [
       "17"
      ]
     },
     "execution_count": 10,
     "metadata": {},
     "output_type": "execute_result"
    }
   ],
   "source": [
    "# This is a simple arithmetic expression to multiply then add integers\n",
    "(3*4)+5"
   ]
  },
  {
   "cell_type": "code",
   "execution_count": 12,
   "id": "9915c9dc-bfb0-4c0f-85b1-573902e2dbae",
   "metadata": {},
   "outputs": [
    {
     "data": {
      "text/plain": [
       "3.3333333333333335"
      ]
     },
     "execution_count": 12,
     "metadata": {},
     "output_type": "execute_result"
    }
   ],
   "source": [
    "# Hours in two hundred miuntes obtained by dividing with sixty minutes\n",
    "200/60"
   ]
  },
  {
   "cell_type": "markdown",
   "id": "9ec139a0-9c6d-4bc8-9b32-5da82509f9a9",
   "metadata": {},
   "source": [
    "## Author\n",
    "Kumbutso Dzekedzeke"
   ]
  }
 ],
 "metadata": {
  "kernelspec": {
   "display_name": "Python [conda env:zheggietraining]",
   "language": "python",
   "name": "conda-env-zheggietraining-py"
  },
  "language_info": {
   "codemirror_mode": {
    "name": "ipython",
    "version": 3
   },
   "file_extension": ".py",
   "mimetype": "text/x-python",
   "name": "python",
   "nbconvert_exporter": "python",
   "pygments_lexer": "ipython3",
   "version": "3.12.9"
  }
 },
 "nbformat": 4,
 "nbformat_minor": 5
}
